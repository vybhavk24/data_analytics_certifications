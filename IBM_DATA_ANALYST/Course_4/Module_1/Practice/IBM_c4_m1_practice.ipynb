{
 "cells": [
  {
   "cell_type": "markdown",
   "id": "79892fd7-286b-4809-85b2-7ee3a165bcfc",
   "metadata": {},
   "source": [
    "## Intro to python, comments, errors."
   ]
  },
  {
   "cell_type": "code",
   "execution_count": 11,
   "id": "1f32b15c-194a-45ae-9e22-f869dd0b5ba3",
   "metadata": {},
   "outputs": [
    {
     "name": "stdout",
     "output_type": "stream",
     "text": [
      "Hello world!\n"
     ]
    }
   ],
   "source": [
    "print(\"Hello world!\")"
   ]
  },
  {
   "cell_type": "code",
   "execution_count": 1,
   "id": "9b952800-7053-4ffb-aa6c-9165f026b938",
   "metadata": {},
   "outputs": [
    {
     "name": "stdout",
     "output_type": "stream",
     "text": [
      "3.11.11 (main, Dec 11 2024, 10:25:04) [Clang 14.0.6 ]\n"
     ]
    }
   ],
   "source": [
    "import sys\n",
    "print(sys.version)"
   ]
  },
  {
   "cell_type": "code",
   "execution_count": 3,
   "id": "09af1c50-86e5-4784-a7b6-0c6237a9a145",
   "metadata": {},
   "outputs": [
    {
     "name": "stdout",
     "output_type": "stream",
     "text": [
      "Hello, world!\n"
     ]
    }
   ],
   "source": [
    "#comments\n",
    "print(\"Hello, world!\") #prints Hello world"
   ]
  },
  {
   "cell_type": "code",
   "execution_count": 4,
   "id": "fddea8a3-64ef-4d66-b1b9-6f1b0e41eedc",
   "metadata": {},
   "outputs": [
    {
     "name": "stdout",
     "output_type": "stream",
     "text": [
      "This will be printed\n"
     ]
    },
    {
     "ename": "NameError",
     "evalue": "name 'frint' is not defined",
     "output_type": "error",
     "traceback": [
      "\u001b[31m---------------------------------------------------------------------------\u001b[39m",
      "\u001b[31mNameError\u001b[39m                                 Traceback (most recent call last)",
      "\u001b[36mCell\u001b[39m\u001b[36m \u001b[39m\u001b[32mIn[4]\u001b[39m\u001b[32m, line 2\u001b[39m\n\u001b[32m      1\u001b[39m \u001b[38;5;28mprint\u001b[39m(\u001b[33m\"\u001b[39m\u001b[33mThis will be printed\u001b[39m\u001b[33m\"\u001b[39m)\n\u001b[32m----> \u001b[39m\u001b[32m2\u001b[39m frint(\u001b[33m\"\u001b[39m\u001b[33mThis will cause an error\u001b[39m\u001b[33m\"\u001b[39m)\n\u001b[32m      3\u001b[39m \u001b[38;5;28mprint\u001b[39m(\u001b[33m\"\u001b[39m\u001b[33mThis will NOT be printed\u001b[39m\u001b[33m\"\u001b[39m)\n",
      "\u001b[31mNameError\u001b[39m: name 'frint' is not defined"
     ]
    }
   ],
   "source": [
    "print(\"This will be printed\")\n",
    "frint(\"This will cause an error\")\n",
    "print(\"This will NOT be printed\")"
   ]
  },
  {
   "cell_type": "markdown",
   "id": "3c4362d5-d92e-4a73-ba16-120d3611043f",
   "metadata": {},
   "source": [
    "## Data Types"
   ]
  },
  {
   "cell_type": "markdown",
   "id": "1983de09-38df-4c3d-b924-ce658abc12e1",
   "metadata": {},
   "source": [
    "### Numeric Types"
   ]
  },
  {
   "cell_type": "code",
   "execution_count": 7,
   "id": "c0a597aa-7090-4d6c-b0c7-dd9f5a1f0e5b",
   "metadata": {},
   "outputs": [
    {
     "name": "stdout",
     "output_type": "stream",
     "text": [
      "<class 'int'> <class 'int'>\n"
     ]
    },
    {
     "data": {
      "text/plain": [
       "<function print(*args, sep=' ', end='\\n', file=None, flush=False)>"
      ]
     },
     "execution_count": 7,
     "metadata": {},
     "output_type": "execute_result"
    }
   ],
   "source": [
    "age = 25\n",
    "year = 2025\n",
    "print(type(age), type(year))\n",
    "print"
   ]
  },
  {
   "cell_type": "code",
   "execution_count": 8,
   "id": "52b95b07-507c-4e61-877c-7dbdcebe79bb",
   "metadata": {},
   "outputs": [
    {
     "name": "stdout",
     "output_type": "stream",
     "text": [
      "<class 'float'>\n"
     ]
    }
   ],
   "source": [
    "temparature = 36.8\n",
    "print(type(temparature))"
   ]
  },
  {
   "cell_type": "code",
   "execution_count": 9,
   "id": "a5e913b8-f5be-4fea-a413-fc439b9e2de9",
   "metadata": {},
   "outputs": [
    {
     "name": "stdout",
     "output_type": "stream",
     "text": [
      "<class 'complex'>\n"
     ]
    }
   ],
   "source": [
    "complex = 2+3j\n",
    "print(type(complex))"
   ]
  },
  {
   "cell_type": "markdown",
   "id": "8631cc6d-3b4d-4f7d-8188-ac60764c6245",
   "metadata": {},
   "source": [
    "### Booelan (bool)"
   ]
  },
  {
   "cell_type": "code",
   "execution_count": 10,
   "id": "44b3ebb0-3919-4e53-86ee-90ead1636242",
   "metadata": {},
   "outputs": [
    {
     "name": "stdout",
     "output_type": "stream",
     "text": [
      "True True\n",
      "<class 'bool'>\n"
     ]
    }
   ],
   "source": [
    "is_adult = True\n",
    "result = 10 > 5\n",
    "print(is_adult, result)\n",
    "print(type(result))"
   ]
  },
  {
   "cell_type": "markdown",
   "id": "88a73d00-472d-4046-ae14-fb3b37cc26da",
   "metadata": {},
   "source": [
    "### Sequence types"
   ]
  },
  {
   "cell_type": "code",
   "execution_count": 13,
   "id": "8549a29b-e1cd-45e6-9e9d-4013d14340ae",
   "metadata": {},
   "outputs": [
    {
     "name": "stdout",
     "output_type": "stream",
     "text": [
      "Hello, Data Science!\n",
      "<class 'str'>\n"
     ]
    }
   ],
   "source": [
    "greeting = \"Hello, Data Science!\"\n",
    "print(greeting)\n",
    "print(type(greeting))"
   ]
  },
  {
   "cell_type": "code",
   "execution_count": 14,
   "id": "c7536f09-3d89-4742-ba9a-91ed6a48da17",
   "metadata": {},
   "outputs": [
    {
     "name": "stdout",
     "output_type": "stream",
     "text": [
      "[10, 20, 'Python', True]\n",
      "<class 'list'>\n",
      "Python\n",
      "[10, 20, 'Python', True, 'New Element']\n"
     ]
    }
   ],
   "source": [
    "my_list = [10, 20, \"Python\", True]\n",
    "print(my_list)\n",
    "print(type(my_list))\n",
    "\n",
    "# Accessing elements, index starts from 0\n",
    "print(my_list[2])\n",
    "\n",
    "# List operations\n",
    "my_list.append(\"New Element\")\n",
    "print(my_list)"
   ]
  },
  {
   "cell_type": "code",
   "execution_count": 15,
   "id": "397fe85e-b83e-420b-b041-691b8de036ef",
   "metadata": {},
   "outputs": [
    {
     "name": "stdout",
     "output_type": "stream",
     "text": [
      "(1, 2, 3, 'Data')\n",
      "<class 'tuple'>\n"
     ]
    }
   ],
   "source": [
    "my_tuple = (1, 2, 3, \"Data\")\n",
    "print(my_tuple)\n",
    "print(type(my_tuple))"
   ]
  },
  {
   "cell_type": "code",
   "execution_count": 16,
   "id": "0207331a-3360-4fea-b910-a6acf8b575c7",
   "metadata": {},
   "outputs": [
    {
     "name": "stdout",
     "output_type": "stream",
     "text": [
      "[0, 2, 4, 6, 8]\n",
      "<class 'range'>\n"
     ]
    }
   ],
   "source": [
    "numbers = range(0, 10, 2)  # start at 0, go up to 10 (exclusive), step by 2\n",
    "print(list(numbers))  # Convert to list to see all values\n",
    "print(type(numbers))"
   ]
  },
  {
   "cell_type": "code",
   "execution_count": 17,
   "id": "eb486a39-54bc-4d1e-8aa6-33e1b29ee1b3",
   "metadata": {},
   "outputs": [
    {
     "name": "stdout",
     "output_type": "stream",
     "text": [
      "{'name': 'Vybhav', 'age': 25, 'course': 'IBM Data Analyst Professional Certificate'}\n",
      "<class 'dict'>\n",
      "Vybhav\n"
     ]
    }
   ],
   "source": [
    "person = {\n",
    "    \"name\": \"Vybhav\",\n",
    "    \"age\": 25,\n",
    "    \"course\": \"IBM Data Analyst Professional Certificate\"\n",
    "}\n",
    "print(person)\n",
    "print(type(person))\n",
    "\n",
    "# Accessing values by key\n",
    "print(person[\"name\"])"
   ]
  },
  {
   "cell_type": "code",
   "execution_count": 18,
   "id": "e6fa611c-c4cc-4547-907c-96609034fdb6",
   "metadata": {},
   "outputs": [
    {
     "name": "stdout",
     "output_type": "stream",
     "text": [
      "{1, 2, 3}\n",
      "<class 'set'>\n"
     ]
    }
   ],
   "source": [
    "my_set = {1, 2, 3, 2, 1}\n",
    "print(my_set)\n",
    "print(type(my_set))"
   ]
  },
  {
   "cell_type": "code",
   "execution_count": 20,
   "id": "1184835d-7816-4e48-bc53-4e99e58f822f",
   "metadata": {},
   "outputs": [
    {
     "name": "stdout",
     "output_type": "stream",
     "text": [
      "frozenset({1, 2, 3, 4})\n",
      "<class 'frozenset'>\n"
     ]
    }
   ],
   "source": [
    "immutable_set = frozenset([1, 2, 3, 3, 4, 4])\n",
    "print(immutable_set)\n",
    "print(type(immutable_set))"
   ]
  },
  {
   "cell_type": "code",
   "execution_count": 21,
   "id": "25ce6c06-53cc-463e-a516-25aa22ed8da8",
   "metadata": {},
   "outputs": [
    {
     "name": "stdout",
     "output_type": "stream",
     "text": [
      "None\n",
      "<class 'NoneType'>\n"
     ]
    }
   ],
   "source": [
    "no_value = None\n",
    "print(no_value)\n",
    "print(type(no_value))"
   ]
  },
  {
   "cell_type": "markdown",
   "id": "5f30c4aa-9631-43c0-a15c-f30eb946dae3",
   "metadata": {},
   "source": [
    "### Expression"
   ]
  },
  {
   "cell_type": "code",
   "execution_count": 22,
   "id": "a544d893-8fe0-4e9c-9a7b-cb96216db8f3",
   "metadata": {},
   "outputs": [
    {
     "name": "stdout",
     "output_type": "stream",
     "text": [
      "11\n"
     ]
    }
   ],
   "source": [
    "result = 3 + 2 * 4  #Python follows PEMDAS\n",
    "print(result)"
   ]
  },
  {
   "cell_type": "code",
   "execution_count": 23,
   "id": "db0caaff-5ed0-47f5-9528-e9eb1233ab22",
   "metadata": {},
   "outputs": [
    {
     "name": "stdout",
     "output_type": "stream",
     "text": [
      "20\n"
     ]
    }
   ],
   "source": [
    "result = (3 + 2) * 4 \n",
    "print(result)"
   ]
  },
  {
   "cell_type": "code",
   "execution_count": 24,
   "id": "9bf50ec5-501e-4e6a-b541-43206753cba0",
   "metadata": {},
   "outputs": [
    {
     "name": "stdout",
     "output_type": "stream",
     "text": [
      "Sum: 8\n",
      "Product: 15\n"
     ]
    }
   ],
   "source": [
    "a = 5 #Using variables\n",
    "b = 3\n",
    "sum_ab = a + b\n",
    "product_ab = a * b\n",
    "print(\"Sum:\", sum_ab)\n",
    "print(\"Product:\", product_ab)"
   ]
  },
  {
   "cell_type": "code",
   "execution_count": 25,
   "id": "71285cee-6110-43ee-8173-d023a4705802",
   "metadata": {},
   "outputs": [
    {
     "name": "stdout",
     "output_type": "stream",
     "text": [
      "Area of the circle: 153.93804002589985\n"
     ]
    }
   ],
   "source": [
    "import math\n",
    "radius = 7\n",
    "area_circle = math.pi * (radius ** 2) #two asterics perform exponential\n",
    "print(\"Area of the circle:\", area_circle)"
   ]
  },
  {
   "cell_type": "code",
   "execution_count": 26,
   "id": "92615aee-acfe-436b-adb8-e07243051df6",
   "metadata": {},
   "outputs": [
    {
     "name": "stdout",
     "output_type": "stream",
     "text": [
      "52.0\n"
     ]
    }
   ],
   "source": [
    "result = (10 + 5) * (12 / 3) - 2 ** 3\n",
    "print(result)"
   ]
  },
  {
   "cell_type": "markdown",
   "id": "c7cec9c6-a39e-4e62-b47b-b66539540c4d",
   "metadata": {},
   "source": [
    "## String operations"
   ]
  },
  {
   "cell_type": "code",
   "execution_count": 30,
   "id": "48319b48-aabb-4034-ba62-d8b58936ea42",
   "metadata": {},
   "outputs": [
    {
     "name": "stdout",
     "output_type": "stream",
     "text": [
      "Vybhav Krishna\n"
     ]
    }
   ],
   "source": [
    "#String concatenation\n",
    "\n",
    "first_name = \"Vybhav\"\n",
    "last_name = \"Krishna\"\n",
    "full_name = first_name + \" \" + last_name\n",
    "print(full_name)"
   ]
  },
  {
   "cell_type": "code",
   "execution_count": 32,
   "id": "04e30d04-54b8-4980-8d6f-06bdd705a3c5",
   "metadata": {},
   "outputs": [
    {
     "name": "stdout",
     "output_type": "stream",
     "text": [
      "hahaha\n"
     ]
    }
   ],
   "source": [
    "#Repetition\n",
    "\n",
    "repeat_str = \"ha\" * 3\n",
    "print(repeat_str)  #(ha repeated three times)"
   ]
  },
  {
   "cell_type": "code",
   "execution_count": 34,
   "id": "ad5899ab-d799-4c17-a324-b9643bee9260",
   "metadata": {},
   "outputs": [
    {
     "name": "stdout",
     "output_type": "stream",
     "text": [
      "D\n",
      "S\n",
      "e\n",
      "c\n"
     ]
    }
   ],
   "source": [
    "#indexing and slicing\n",
    "\n",
    "text = \"Data Science\"\n",
    "print(text[0])  # 'D'\n",
    "print(text[5])  # 'S'\n",
    "\n",
    "#nagative = from end\n",
    "print(text[-1])  # 'e'\n",
    "print(text[-2])  # 'c'"
   ]
  },
  {
   "cell_type": "code",
   "execution_count": 35,
   "id": "3dcf67b9-07bf-4e18-ab30-e263b7fb81d9",
   "metadata": {},
   "outputs": [
    {
     "name": "stdout",
     "output_type": "stream",
     "text": [
      "Python\n",
      "String\n",
      "PtoSrn\n"
     ]
    }
   ],
   "source": [
    "#Slicing\n",
    "\n",
    "s = \"PythonString\"\n",
    "print(s[0:6])    # 'Python' (characters from index 0 up to, but not including, 6)\n",
    "print(s[6:])     # 'String' (from index 6 to the end)\n",
    "print(s[::2])    # Every second character in the string"
   ]
  },
  {
   "cell_type": "code",
   "execution_count": 37,
   "id": "64c8c777-ac94-4309-919c-92f990b02184",
   "metadata": {},
   "outputs": [
    {
     "name": "stdout",
     "output_type": "stream",
     "text": [
      "DATA SCIENCE IS FUN!\n",
      "data science is fun!\n",
      "Data science is fun!\n"
     ]
    }
   ],
   "source": [
    "#Changing case\n",
    "\n",
    "sentence = \"Data Science is fun!\"\n",
    "print(sentence.upper())  # \"DATA SCIENCE IS FUN!\"\n",
    "print(sentence.lower())  # \"data science is fun!\"\n",
    "\n",
    "print(sentence.capitalize())  # Only first letter is capitalized"
   ]
  },
  {
   "cell_type": "code",
   "execution_count": 40,
   "id": "8750a4af-cdb9-4cbf-865c-114d4e61af1c",
   "metadata": {},
   "outputs": [
    {
     "name": "stdout",
     "output_type": "stream",
     "text": [
      "['Data', 'Science', 'is', 'fun!']\n",
      "Data Science is fun!\n"
     ]
    }
   ],
   "source": [
    "sentence = \"Data Science is fun!\"\n",
    "\n",
    "#Splitting\n",
    "\n",
    "words = sentence.split()\n",
    "print(words)  # ['Data', 'Science', 'is', 'fun!']\n",
    "\n",
    "#Joining\n",
    "\n",
    "joined = \" \".join(words)\n",
    "print(joined)  # \"Data Science is fun!\""
   ]
  },
  {
   "cell_type": "code",
   "execution_count": 41,
   "id": "a99838c9-4614-4adb-9655-69d08482e30c",
   "metadata": {},
   "outputs": [
    {
     "name": "stdout",
     "output_type": "stream",
     "text": [
      "Clean me up!\n",
      "Clean me up!   \n",
      "   Clean me up!\n"
     ]
    }
   ],
   "source": [
    "#Trimmig white spaces\n",
    "\n",
    "messy = \"   Clean me up!   \"\n",
    "print(messy.strip())   # \"Clean me up!\"\n",
    "print(messy.lstrip())  # \"Clean me up!   \"\n",
    "print(messy.rstrip())  # \"   Clean me up!\""
   ]
  },
  {
   "cell_type": "code",
   "execution_count": 42,
   "id": "85f79d74-703d-4f7b-907d-87d66f1e0f21",
   "metadata": {},
   "outputs": [
    {
     "name": "stdout",
     "output_type": "stream",
     "text": [
      "I love data analysis. data analysis is great!\n",
      "7\n"
     ]
    }
   ],
   "source": [
    "#replacing\n",
    "\n",
    "text = \"I love Python. Python is great!\"\n",
    "new_text = text.replace(\"Python\", \"data analysis\")\n",
    "print(new_text)  # \"I love data analysis. data analysis is great!\"\n",
    "\n",
    "#Searching\n",
    "\n",
    "position = text.find(\"Python\")\n",
    "print(position)  # Position of the first occurrence of 'Python'"
   ]
  },
  {
   "cell_type": "code",
   "execution_count": null,
   "id": "b86ed10a-549a-4329-b5a0-0aff305314df",
   "metadata": {},
   "outputs": [],
   "source": []
  }
 ],
 "metadata": {
  "kernelspec": {
   "display_name": "Python 3 (ipykernel)",
   "language": "python",
   "name": "python3"
  },
  "language_info": {
   "codemirror_mode": {
    "name": "ipython",
    "version": 3
   },
   "file_extension": ".py",
   "mimetype": "text/x-python",
   "name": "python",
   "nbconvert_exporter": "python",
   "pygments_lexer": "ipython3",
   "version": "3.11.11"
  }
 },
 "nbformat": 4,
 "nbformat_minor": 5
}
