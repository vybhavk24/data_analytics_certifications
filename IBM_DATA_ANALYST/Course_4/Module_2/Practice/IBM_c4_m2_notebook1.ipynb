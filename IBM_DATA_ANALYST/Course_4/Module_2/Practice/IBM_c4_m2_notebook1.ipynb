{
 "cells": [
  {
   "cell_type": "markdown",
   "id": "eb245999-a46c-4cfc-9150-f2b483320735",
   "metadata": {},
   "source": [
    "## Lists and Tuples"
   ]
  },
  {
   "cell_type": "markdown",
   "id": "ef97e572-3645-4c72-b6cc-34db5b9f252b",
   "metadata": {},
   "source": [
    "### Lists"
   ]
  },
  {
   "cell_type": "code",
   "execution_count": 1,
   "id": "5f2d7677-0812-47e9-9802-1420d8cc97d7",
   "metadata": {},
   "outputs": [
    {
     "name": "stdout",
     "output_type": "stream",
     "text": [
      "[10, 20, 30, 40]\n"
     ]
    }
   ],
   "source": [
    "# A list of numbers\n",
    "numbers = [10, 20, 30, 40]\n",
    "print(numbers)\n",
    "\n",
    "# A list of strings\n",
    "fruits = [\"apple\", \"banana\", \"cherry\"]\n",
    "\n",
    "# A mixed list\n",
    "mixed_list = [1, \"Python\", 3.14, True]"
   ]
  },
  {
   "cell_type": "code",
   "execution_count": 2,
   "id": "43554293-be28-446d-a877-499f1683ac55",
   "metadata": {},
   "outputs": [
    {
     "name": "stdout",
     "output_type": "stream",
     "text": [
      "10\n",
      "banana\n",
      "True\n"
     ]
    }
   ],
   "source": [
    "print(numbers[0])\n",
    "print(fruits[1])\n",
    "print(mixed_list[-1])"
   ]
  },
  {
   "cell_type": "code",
   "execution_count": 3,
   "id": "6a197866-f82a-4c99-a6e8-30564425b625",
   "metadata": {},
   "outputs": [
    {
     "name": "stdout",
     "output_type": "stream",
     "text": [
      "['green', 'blue', 'yellow']\n"
     ]
    }
   ],
   "source": [
    "# Given the list below:\n",
    "colors = [\"red\", \"green\", \"blue\", \"yellow\", \"purple\"]\n",
    "\n",
    "# Retrieve a sublist from green to yellow (inclusive start, exclusive stop):\n",
    "sub_colors = colors[1:4]\n",
    "print(sub_colors)\n"
   ]
  },
  {
   "cell_type": "code",
   "execution_count": 4,
   "id": "80719429-473e-4909-816a-939e659169f3",
   "metadata": {},
   "outputs": [
    {
     "name": "stdout",
     "output_type": "stream",
     "text": [
      "['avocado', 'banana', 'cherry']\n"
     ]
    }
   ],
   "source": [
    "fruits[0] = \"avocado\"\n",
    "print(fruits)"
   ]
  },
  {
   "cell_type": "code",
   "execution_count": 5,
   "id": "37e9bc5d-eb47-424e-b07e-54efa4995d95",
   "metadata": {},
   "outputs": [
    {
     "name": "stdout",
     "output_type": "stream",
     "text": [
      "['avocado', 'banana', 'cherry', 'date']\n"
     ]
    }
   ],
   "source": [
    "fruits.append(\"date\")\n",
    "print(fruits)"
   ]
  },
  {
   "cell_type": "code",
   "execution_count": 6,
   "id": "8d5c20b7-561b-417a-bdb3-813be0737509",
   "metadata": {},
   "outputs": [
    {
     "name": "stdout",
     "output_type": "stream",
     "text": [
      "['avocado', 'cherry', 'date']\n"
     ]
    }
   ],
   "source": [
    "fruits.remove(\"banana\")\n",
    "print(fruits)"
   ]
  },
  {
   "cell_type": "code",
   "execution_count": 7,
   "id": "0b027657-02ed-401b-8c33-104545827aac",
   "metadata": {},
   "outputs": [
    {
     "name": "stdout",
     "output_type": "stream",
     "text": [
      "date\n",
      "['avocado', 'cherry']\n"
     ]
    }
   ],
   "source": [
    "last_item = fruits.pop() #By default it pops last element, if index is not mentioned\n",
    "print(last_item)  # The popped element\n",
    "print(fruits)"
   ]
  },
  {
   "cell_type": "code",
   "execution_count": 8,
   "id": "00cdfd51-83b3-4615-a088-70772056175c",
   "metadata": {},
   "outputs": [
    {
     "name": "stdout",
     "output_type": "stream",
     "text": [
      "red\n",
      "green\n",
      "blue\n",
      "yellow\n",
      "purple\n"
     ]
    }
   ],
   "source": [
    "for color in colors:\n",
    "    print(color)"
   ]
  },
  {
   "cell_type": "code",
   "execution_count": 9,
   "id": "923f01f8-ef94-4e8e-b126-a78d55e64a5a",
   "metadata": {},
   "outputs": [
    {
     "name": "stdout",
     "output_type": "stream",
     "text": [
      "['red', 'green', 'blue', 'yellow', 'purple', 'orange', 'pink']\n"
     ]
    }
   ],
   "source": [
    "more_colors = [\"orange\", \"pink\"]\n",
    "colors.extend(more_colors)\n",
    "print(colors)"
   ]
  },
  {
   "cell_type": "code",
   "execution_count": 10,
   "id": "821ddfb9-93fd-4552-bc76-1da40ec9a853",
   "metadata": {},
   "outputs": [
    {
     "name": "stdout",
     "output_type": "stream",
     "text": [
      "[10, 20, 30, 40]\n"
     ]
    }
   ],
   "source": [
    "numbers = [30, 10, 20, 40]\n",
    "numbers.sort()\n",
    "print(numbers)"
   ]
  },
  {
   "cell_type": "code",
   "execution_count": 11,
   "id": "49adb8f0-049d-4987-aee4-95a0fc119bd7",
   "metadata": {},
   "outputs": [
    {
     "name": "stdout",
     "output_type": "stream",
     "text": [
      "[40, 30, 20, 10]\n"
     ]
    }
   ],
   "source": [
    "numbers.reverse()\n",
    "print(numbers)"
   ]
  },
  {
   "cell_type": "code",
   "execution_count": 12,
   "id": "3b80e09d-a509-4b3c-9a78-e0c56a058486",
   "metadata": {},
   "outputs": [
    {
     "name": "stdout",
     "output_type": "stream",
     "text": [
      "4\n"
     ]
    }
   ],
   "source": [
    "print(len(numbers))"
   ]
  },
  {
   "cell_type": "markdown",
   "id": "f8fb3eca-0573-45ea-8168-b2eb9e7da943",
   "metadata": {},
   "source": [
    "### Tuples"
   ]
  },
  {
   "cell_type": "code",
   "execution_count": 15,
   "id": "df8e547f-b6e4-4169-ad48-a7a4c5703a74",
   "metadata": {},
   "outputs": [
    {
     "name": "stdout",
     "output_type": "stream",
     "text": [
      "(1920, 1080) ('Monday', 'Tuesday', 'Wednesday') ('Vybhav', 25, 'Data Analyst')\n"
     ]
    }
   ],
   "source": [
    "# A tuple of numbers\n",
    "dimensions = (1920, 1080)\n",
    "\n",
    "# A tuple of strings\n",
    "days = (\"Monday\", \"Tuesday\", \"Wednesday\")\n",
    "\n",
    "# A mixed tuple (parentheses are optional)\n",
    "person_info = \"Vybhav\", 25, \"Data Analyst\"\n",
    "\n",
    "print(dimensions, days, person_info)"
   ]
  },
  {
   "cell_type": "code",
   "execution_count": 16,
   "id": "a0d24c68-7e73-4f68-af79-a8f09fac8876",
   "metadata": {},
   "outputs": [
    {
     "name": "stdout",
     "output_type": "stream",
     "text": [
      "Monday\n",
      "1080\n",
      "Data Analyst\n"
     ]
    }
   ],
   "source": [
    "print(days[0])\n",
    "print(dimensions[1])\n",
    "print(person_info[-1])"
   ]
  },
  {
   "cell_type": "code",
   "execution_count": 17,
   "id": "d67309f5-08e3-449b-a48c-8ed25bc6a1c2",
   "metadata": {},
   "outputs": [
    {
     "name": "stdout",
     "output_type": "stream",
     "text": [
      "x = 10\n",
      "y = 20\n"
     ]
    }
   ],
   "source": [
    "coordinates = (10, 20)\n",
    "x, y = coordinates  # Unpack tuple values into variables\n",
    "print(\"x =\", x)\n",
    "print(\"y =\", y)"
   ]
  },
  {
   "cell_type": "code",
   "execution_count": null,
   "id": "077593f0-d4e9-44f3-a12d-939ccca93ccb",
   "metadata": {},
   "outputs": [],
   "source": []
  }
 ],
 "metadata": {
  "kernelspec": {
   "display_name": "Python 3 (ipykernel)",
   "language": "python",
   "name": "python3"
  },
  "language_info": {
   "codemirror_mode": {
    "name": "ipython",
    "version": 3
   },
   "file_extension": ".py",
   "mimetype": "text/x-python",
   "name": "python",
   "nbconvert_exporter": "python",
   "pygments_lexer": "ipython3",
   "version": "3.11.11"
  }
 },
 "nbformat": 4,
 "nbformat_minor": 5
}
