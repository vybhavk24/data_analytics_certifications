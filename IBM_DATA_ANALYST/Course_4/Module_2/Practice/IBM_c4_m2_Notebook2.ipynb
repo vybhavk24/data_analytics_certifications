{
 "cells": [
  {
   "cell_type": "markdown",
   "id": "ca7edf18-1576-47ed-9a66-452799c7b3e5",
   "metadata": {},
   "source": [
    "## Dictionaries"
   ]
  },
  {
   "cell_type": "code",
   "execution_count": 1,
   "id": "ed0ce458-fb45-49e5-8b04-15ad94422020",
   "metadata": {},
   "outputs": [
    {
     "name": "stdout",
     "output_type": "stream",
     "text": [
      "{'id': 101, 'name': 'Alice', 'grades': [85, 92, 78]}\n",
      "{'name': 'Bob', 'role': 'Data Analyst', 'salary': 75000}\n"
     ]
    }
   ],
   "source": [
    "# Using curly braces\n",
    "student = {\n",
    "    \"id\": 101,\n",
    "    \"name\": \"Alice\",\n",
    "    \"grades\": [85, 92, 78]\n",
    "}\n",
    "\n",
    "# Using the dict() constructor\n",
    "employee = dict(name=\"Bob\", role=\"Data Analyst\", salary=75000)\n",
    "\n",
    "print(student)\n",
    "print(employee)"
   ]
  },
  {
   "cell_type": "code",
   "execution_count": 2,
   "id": "1bca676b-ee93-4217-8d34-2eeb2fc2475c",
   "metadata": {},
   "outputs": [
    {
     "name": "stdout",
     "output_type": "stream",
     "text": [
      "Alice\n"
     ]
    }
   ],
   "source": [
    "print(student[\"name\"])"
   ]
  },
  {
   "cell_type": "code",
   "execution_count": 3,
   "id": "47aceed5-edaa-4432-a8c9-267322cdc674",
   "metadata": {},
   "outputs": [
    {
     "name": "stdout",
     "output_type": "stream",
     "text": [
      "{'id': 101, 'name': 'Alice', 'grades': [85, 92, 78], 'major': 'Data Science'}\n",
      "{'id': 101, 'name': 'Alice', 'grades': [85, 92, 78, 95], 'major': 'Data Science'}\n"
     ]
    }
   ],
   "source": [
    "# Adding a new key-value pair\n",
    "student[\"major\"] = \"Data Science\"\n",
    "print(student)\n",
    "\n",
    "# Updating an existing value\n",
    "student[\"grades\"].append(95)\n",
    "print(student)"
   ]
  },
  {
   "cell_type": "code",
   "execution_count": 4,
   "id": "858c4249-9743-4189-8ea2-3e394b129d7c",
   "metadata": {},
   "outputs": [
    {
     "name": "stdout",
     "output_type": "stream",
     "text": [
      "{'name': 'Bob', 'role': 'Data Analyst'}\n"
     ]
    }
   ],
   "source": [
    "del employee[\"salary\"]\n",
    "print(employee)"
   ]
  },
  {
   "cell_type": "code",
   "execution_count": 5,
   "id": "87e24393-a0d3-4454-8574-4a854b69e7aa",
   "metadata": {},
   "outputs": [
    {
     "name": "stdout",
     "output_type": "stream",
     "text": [
      "{}\n"
     ]
    }
   ],
   "source": [
    "student.clear()\n",
    "print(student)"
   ]
  },
  {
   "cell_type": "code",
   "execution_count": 6,
   "id": "d422924d-55e9-4572-9137-e13dfbe34905",
   "metadata": {},
   "outputs": [
    {
     "name": "stdout",
     "output_type": "stream",
     "text": [
      "name\n",
      "role\n"
     ]
    }
   ],
   "source": [
    "for key in employee:\n",
    "    print(key)"
   ]
  },
  {
   "cell_type": "code",
   "execution_count": 8,
   "id": "8145de11-e464-4f92-903c-13c42fd2c9d7",
   "metadata": {},
   "outputs": [
    {
     "name": "stdout",
     "output_type": "stream",
     "text": [
      "Bob\n"
     ]
    }
   ],
   "source": [
    "students = {\n",
    "    \"student1\": {\"name\": \"Alice\", \"grade\": \"A\"},\n",
    "    \"student2\": {\"name\": \"Bob\", \"grade\": \"B\"},\n",
    "    \"student3\": {\"name\": \"Charlie\", \"grade\": \"A\"}\n",
    "}\n",
    "\n",
    "# Accessing nested elements\n",
    "print(students[\"student2\"][\"name\"])"
   ]
  },
  {
   "cell_type": "markdown",
   "id": "8ca7ecb6-9669-40eb-9f68-0ced2b95c6f7",
   "metadata": {},
   "source": [
    "## Sets"
   ]
  },
  {
   "cell_type": "code",
   "execution_count": 9,
   "id": "12b44b1a-29ab-44e4-8786-d391415a962b",
   "metadata": {},
   "outputs": [
    {
     "name": "stdout",
     "output_type": "stream",
     "text": [
      "{'apple', 'banana', 'cherry'}\n",
      "{1, 2, 3, 4}\n"
     ]
    }
   ],
   "source": [
    "fruits = {\"apple\", \"banana\", \"cherry\"}\n",
    "print(fruits)\n",
    "\n",
    "numbers = set([1, 2, 3, 3, 4])  # Duplicates (the extra 3) are removed automatically\n",
    "print(numbers)"
   ]
  },
  {
   "cell_type": "code",
   "execution_count": 10,
   "id": "dbd66c6d-90ca-4bd8-93ff-2d779d70ed28",
   "metadata": {},
   "outputs": [
    {
     "name": "stdout",
     "output_type": "stream",
     "text": [
      "True\n"
     ]
    }
   ],
   "source": [
    "colors = {\"red\", \"green\", \"blue\"}\n",
    "print(\"green\" in colors)"
   ]
  },
  {
   "cell_type": "code",
   "execution_count": 11,
   "id": "b40dd2e8-449a-427f-8434-51de1c035e9b",
   "metadata": {},
   "outputs": [],
   "source": [
    "colors.add(\"yellow\")"
   ]
  },
  {
   "cell_type": "code",
   "execution_count": 13,
   "id": "09088b7b-16f2-45fb-8d87-eb410c060250",
   "metadata": {},
   "outputs": [
    {
     "ename": "KeyError",
     "evalue": "'green'",
     "output_type": "error",
     "traceback": [
      "\u001b[31m---------------------------------------------------------------------------\u001b[39m",
      "\u001b[31mKeyError\u001b[39m                                  Traceback (most recent call last)",
      "\u001b[36mCell\u001b[39m\u001b[36m \u001b[39m\u001b[32mIn[13]\u001b[39m\u001b[32m, line 1\u001b[39m\n\u001b[32m----> \u001b[39m\u001b[32m1\u001b[39m colors.remove(\u001b[33m\"\u001b[39m\u001b[33mgreen\u001b[39m\u001b[33m\"\u001b[39m)\n",
      "\u001b[31mKeyError\u001b[39m: 'green'"
     ]
    }
   ],
   "source": [
    "colors.remove(\"green\")  # Raises KeyError if the element does not exist."
   ]
  },
  {
   "cell_type": "code",
   "execution_count": 14,
   "id": "a9955718-dc3b-440e-ae0b-7caeeaed0037",
   "metadata": {},
   "outputs": [],
   "source": [
    "colors.discard(\"purple\")  # Does nothing if the element is not in the set."
   ]
  },
  {
   "cell_type": "code",
   "execution_count": 15,
   "id": "7f7f5f32-bb35-43b5-a52c-6acbad372fe8",
   "metadata": {},
   "outputs": [
    {
     "name": "stdout",
     "output_type": "stream",
     "text": [
      "Popped: red\n"
     ]
    }
   ],
   "source": [
    "popped_element = colors.pop()  # Removes and returns an arbitrary element\n",
    "print(\"Popped:\", popped_element)"
   ]
  },
  {
   "cell_type": "code",
   "execution_count": 16,
   "id": "dd4d82d6-d190-478a-818f-807f1ed1788d",
   "metadata": {},
   "outputs": [
    {
     "name": "stdout",
     "output_type": "stream",
     "text": [
      "{1, 2, 3, 4, 5}\n",
      "{1, 2, 3, 4, 5}\n"
     ]
    }
   ],
   "source": [
    "set_a = {1, 2, 3}\n",
    "set_b = {3, 4, 5}\n",
    "union_result1 = set_a | set_b\n",
    "print(union_result1)\n",
    "\n",
    "# Alternatively:\n",
    "union_result2 = set_a.union(set_b)\n",
    "print(union_result2)"
   ]
  },
  {
   "cell_type": "code",
   "execution_count": 17,
   "id": "01ee1021-a39b-482e-955f-8f7f003cf79b",
   "metadata": {},
   "outputs": [
    {
     "name": "stdout",
     "output_type": "stream",
     "text": [
      "{3}\n"
     ]
    }
   ],
   "source": [
    "intersection_result = set_a & set_b\n",
    "print(intersection_result)\n",
    "# Alternatively:\n",
    "intersection_result = set_a.intersection(set_b)"
   ]
  },
  {
   "cell_type": "code",
   "execution_count": 18,
   "id": "f64bd2ae-13b6-40c0-9e96-7c8bc6fff119",
   "metadata": {},
   "outputs": [],
   "source": [
    "difference_result = set_a - set_b  # Output: {1, 2}\n",
    "# Alternatively:\n",
    "difference_result = set_a.difference(set_b)"
   ]
  },
  {
   "cell_type": "code",
   "execution_count": null,
   "id": "eae72b9c-db76-4ea5-9902-17a757559f73",
   "metadata": {},
   "outputs": [],
   "source": []
  }
 ],
 "metadata": {
  "kernelspec": {
   "display_name": "Python 3 (ipykernel)",
   "language": "python",
   "name": "python3"
  },
  "language_info": {
   "codemirror_mode": {
    "name": "ipython",
    "version": 3
   },
   "file_extension": ".py",
   "mimetype": "text/x-python",
   "name": "python",
   "nbconvert_exporter": "python",
   "pygments_lexer": "ipython3",
   "version": "3.11.11"
  }
 },
 "nbformat": 4,
 "nbformat_minor": 5
}
